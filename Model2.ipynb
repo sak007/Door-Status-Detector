{
 "cells": [
  {
   "cell_type": "code",
   "execution_count": 1,
   "metadata": {},
   "outputs": [
    {
     "name": "stdout",
     "output_type": "stream",
     "text": [
      "Train\n",
      "(23296, 600, 1)\n",
      "(23296, 1)\n",
      "Val\n",
      "(56, 600, 1)\n",
      "(56, 1)\n",
      "Test\n",
      "(70, 600, 1)\n",
      "(70, 1)\n"
     ]
    }
   ],
   "source": [
    "import numpy as np\n",
    "import os\n",
    "import tensorflow as tf\n",
    "from tensorflow.keras import layers\n",
    "import time\n",
    "import pandas as pd\n",
    "\n",
    "\n",
    "def readBackFiles(folder):\n",
    "    x = []\n",
    "    data=pd.read_csv(folder + \"gx.csv\", header=None)\n",
    "    check = data.isna().sum()\n",
    "    if sum(check) > 0:\n",
    "        raise Exception(\"NANs in data\")\n",
    "    x.append(data.values)\n",
    "    x = np.dstack(x)\n",
    "    y = pd.read_csv(folder + \"class.csv\", header=None)\n",
    "    return x, y\n",
    "\n",
    "classes = {0:\"Close\", 1:\"Open\"}\n",
    "\n",
    "TrainFolder = \"data/train/\"\n",
    "ValFolder = \"data/val/\"\n",
    "TestFolder = \"data/test/\"\n",
    "\n",
    "trainX,trainY = readBackFiles(TrainFolder)\n",
    "trainYOneHot = tf.keras.utils.to_categorical(trainY)\n",
    "print(\"Train\")\n",
    "print(trainX.shape)\n",
    "print(trainY.shape)\n",
    "valX,valY = readBackFiles(ValFolder)\n",
    "valYOneHot = tf.keras.utils.to_categorical(valY)\n",
    "print(\"Val\")\n",
    "print(valX.shape)\n",
    "print(valY.shape)\n",
    "print(\"Test\")\n",
    "testX,testY = readBackFiles(TestFolder)\n",
    "print(testX.shape)\n",
    "print(testY.shape)\n",
    "testYOneHot = tf.keras.utils.to_categorical(testY)"
   ]
  },
  {
   "cell_type": "code",
   "execution_count": 2,
   "metadata": {},
   "outputs": [],
   "source": [
    "\n",
    "\n",
    "def fitModel(model, trainX, trainY, valX, valY, epochs, batchSize, verbose,myCallbacks=None):\n",
    "    model.compile(loss='categorical_crossentropy', optimizer=tf.optimizers.Adam(learning_rate=.0001),\n",
    "                  metrics=['acc', \"Precision\", \"Recall\"])\n",
    "    if myCallbacks == None:\n",
    "        history = model.fit(trainX, trainY, epochs=epochs, batch_size=batchSize, verbose=verbose,\n",
    "                            validation_data=(valX, valY))\n",
    "\n",
    "    else:\n",
    "        history = model.fit(trainX, trainY, epochs=epochs, batch_size=batchSize, verbose=verbose,\n",
    "                            validation_data=(valX, valY), callbacks=myCallbacks)\n",
    "    return model, history\n",
    "\n",
    "def createModel2(xShape, yShape):\n",
    "    verbose = 1\n",
    "    _, timesteps, channels = xShape\n",
    "    _, numCategories = yShape\n",
    "    model = tf.keras.Sequential([\n",
    "        layers.Conv1D(filters=64, kernel_size=8, strides=2, activation=\"relu\", input_shape=(timesteps, channels)),\n",
    "        layers.Dropout(.2),\n",
    "        layers.MaxPool1D(pool_size=2),\n",
    "        layers.BatchNormalization(),\n",
    "        layers.Conv1D(filters=48, kernel_size=4, strides=1, activation=\"relu\", input_shape=(timesteps, channels)),\n",
    "        layers.Dropout(.2),\n",
    "        layers.MaxPool1D(pool_size=2),\n",
    "        layers.BatchNormalization(),\n",
    "        layers.Flatten(),\n",
    "        layers.Dense(768, activation=\"relu\"),\n",
    "        layers.BatchNormalization(),\n",
    "        layers.Dropout(.5),\n",
    "        layers.Dense(384, activation=\"relu\"),\n",
    "        layers.BatchNormalization(),\n",
    "        layers.Dropout(.5),\n",
    "        #layers.Dense(30, activation=\"relu\"),\n",
    "        layers.Dense(numCategories, activation=\"softmax\")\n",
    "    ])\n",
    "    return model\n",
    "\n",
    "def createModel(xShape, yShape):\n",
    "    verbose = 1\n",
    "    _, timesteps, channels = xShape\n",
    "    _, numCategories = yShape\n",
    "    model = tf.keras.Sequential([\n",
    "        layers.Conv1D(filters=32, kernel_size=4, strides=2, activation=\"relu\", input_shape=(timesteps, channels)),\n",
    "        layers.Dropout(.2),\n",
    "        layers.MaxPool1D(pool_size=2),\n",
    "        layers.BatchNormalization(),\n",
    "        layers.Conv1D(filters=24, kernel_size=2, strides=1, activation=\"relu\", input_shape=(timesteps, channels)),\n",
    "        layers.Dropout(.2),\n",
    "        layers.MaxPool1D(pool_size=2),\n",
    "        layers.BatchNormalization(),\n",
    "        layers.Flatten(),\n",
    "        layers.Dense(64, activation=\"relu\"),\n",
    "        layers.BatchNormalization(),\n",
    "        layers.Dropout(.5),\n",
    "        layers.Dense(32, activation=\"relu\"),\n",
    "        layers.BatchNormalization(),\n",
    "        layers.Dropout(.5),\n",
    "        #layers.Dense(30, activation=\"relu\"),\n",
    "        layers.Dense(numCategories, activation=\"softmax\")\n",
    "    ])\n",
    "    return model"
   ]
  },
  {
   "cell_type": "code",
   "execution_count": 3,
   "metadata": {},
   "outputs": [],
   "source": [
    "earlyStoppingPatience = 5 # Early stopping\n",
    "reduceLRPatience = 3\n",
    "epochs = 20\n",
    "batchSize = 32\n",
    "\n",
    "#BaseModelPath = \"model/mymodel.h5\"\n",
    "BaseModelPath = \"model/cp-{epoch:04d}\"\n",
    "#earlystopping = tf.keras.callbacks.EarlyStopping(monitor=\"val_acc\", patience=earlyStoppingPatience,restore_best_weights=False, mode=\"max\", verbose=1)\n",
    "reduce_lr = tf.keras.callbacks.ReduceLROnPlateau(monitor='val_acc', factor=0.1,patience=reduceLRPatience, \n",
    "                              verbose=1, mode='max')\n",
    "checkpoint = tf.keras.callbacks.ModelCheckpoint(\n",
    "    BaseModelPath,  verbose=1, save_best_only=False,\n",
    "    save_weights_only=False, save_freq='epoch')\n",
    "myCallbacks = [reduce_lr, checkpoint]\n",
    "#myCallbacks = [earlystopping, reduce_lr, checkpoint]"
   ]
  },
  {
   "cell_type": "code",
   "execution_count": 4,
   "metadata": {},
   "outputs": [
    {
     "name": "stdout",
     "output_type": "stream",
     "text": [
      "Metal device set to: Apple M1 Max\n",
      "\n",
      "systemMemory: 64.00 GB\n",
      "maxCacheSize: 21.33 GB\n",
      "\n",
      "Epoch 1/20\n"
     ]
    },
    {
     "name": "stderr",
     "output_type": "stream",
     "text": [
      "2022-03-22 19:38:10.732823: I tensorflow/core/common_runtime/pluggable_device/pluggable_device_factory.cc:305] Could not identify NUMA node of platform GPU ID 0, defaulting to 0. Your kernel may not have been built with NUMA support.\n",
      "2022-03-22 19:38:10.733076: I tensorflow/core/common_runtime/pluggable_device/pluggable_device_factory.cc:271] Created TensorFlow device (/job:localhost/replica:0/task:0/device:GPU:0 with 0 MB memory) -> physical PluggableDevice (device: 0, name: METAL, pci bus id: <undefined>)\n",
      "2022-03-22 19:38:10.907840: W tensorflow/core/platform/profile_utils/cpu_utils.cc:128] Failed to get CPU frequency: 0 Hz\n",
      "2022-03-22 19:38:11.295086: I tensorflow/core/grappler/optimizers/custom_graph_optimizer_registry.cc:113] Plugin optimizer for device_type GPU is enabled.\n"
     ]
    },
    {
     "name": "stdout",
     "output_type": "stream",
     "text": [
      "\n",
      "Epoch 1: saving model to model/cp-0001\n"
     ]
    },
    {
     "name": "stderr",
     "output_type": "stream",
     "text": [
      "2022-03-22 19:38:22.047206: I tensorflow/core/grappler/optimizers/custom_graph_optimizer_registry.cc:113] Plugin optimizer for device_type GPU is enabled.\n",
      "2022-03-22 19:38:22.471856: W tensorflow/python/util/util.cc:368] Sets are not currently considered sequences, but this may change in the future, so consider avoiding using them.\n"
     ]
    },
    {
     "name": "stdout",
     "output_type": "stream",
     "text": [
      "INFO:tensorflow:Assets written to: model/cp-0001/assets\n",
      "728/728 - 12s - loss: 0.0734 - acc: 0.9779 - precision: 0.9779 - recall: 0.9779 - val_loss: 0.0332 - val_acc: 1.0000 - val_precision: 1.0000 - val_recall: 1.0000 - lr: 1.0000e-04 - 12s/epoch - 17ms/step\n",
      "Epoch 2/20\n",
      "\n",
      "Epoch 2: saving model to model/cp-0002\n",
      "INFO:tensorflow:Assets written to: model/cp-0002/assets\n",
      "728/728 - 11s - loss: 0.0070 - acc: 0.9997 - precision: 0.9997 - recall: 0.9997 - val_loss: 0.0147 - val_acc: 1.0000 - val_precision: 1.0000 - val_recall: 1.0000 - lr: 1.0000e-04 - 11s/epoch - 15ms/step\n",
      "Epoch 3/20\n",
      "\n",
      "Epoch 3: saving model to model/cp-0003\n",
      "INFO:tensorflow:Assets written to: model/cp-0003/assets\n",
      "728/728 - 11s - loss: 0.0035 - acc: 0.9998 - precision: 0.9998 - recall: 0.9998 - val_loss: 0.0085 - val_acc: 1.0000 - val_precision: 1.0000 - val_recall: 1.0000 - lr: 1.0000e-04 - 11s/epoch - 15ms/step\n",
      "Epoch 4/20\n",
      "\n",
      "Epoch 4: ReduceLROnPlateau reducing learning rate to 9.999999747378752e-06.\n",
      "\n",
      "Epoch 4: saving model to model/cp-0004\n",
      "INFO:tensorflow:Assets written to: model/cp-0004/assets\n",
      "728/728 - 11s - loss: 0.0016 - acc: 1.0000 - precision: 1.0000 - recall: 1.0000 - val_loss: 0.0053 - val_acc: 1.0000 - val_precision: 1.0000 - val_recall: 1.0000 - lr: 1.0000e-04 - 11s/epoch - 15ms/step\n",
      "Epoch 5/20\n",
      "\n",
      "Epoch 5: saving model to model/cp-0005\n",
      "INFO:tensorflow:Assets written to: model/cp-0005/assets\n",
      "728/728 - 10s - loss: 0.0012 - acc: 1.0000 - precision: 1.0000 - recall: 1.0000 - val_loss: 0.0051 - val_acc: 1.0000 - val_precision: 1.0000 - val_recall: 1.0000 - lr: 1.0000e-05 - 10s/epoch - 14ms/step\n",
      "Epoch 6/20\n",
      "\n",
      "Epoch 6: saving model to model/cp-0006\n",
      "INFO:tensorflow:Assets written to: model/cp-0006/assets\n",
      "728/728 - 11s - loss: 0.0012 - acc: 1.0000 - precision: 1.0000 - recall: 1.0000 - val_loss: 0.0049 - val_acc: 1.0000 - val_precision: 1.0000 - val_recall: 1.0000 - lr: 1.0000e-05 - 11s/epoch - 15ms/step\n",
      "Epoch 7/20\n",
      "\n",
      "Epoch 7: ReduceLROnPlateau reducing learning rate to 9.999999747378752e-07.\n",
      "\n",
      "Epoch 7: saving model to model/cp-0007\n",
      "INFO:tensorflow:Assets written to: model/cp-0007/assets\n",
      "728/728 - 10s - loss: 9.4104e-04 - acc: 1.0000 - precision: 1.0000 - recall: 1.0000 - val_loss: 0.0046 - val_acc: 1.0000 - val_precision: 1.0000 - val_recall: 1.0000 - lr: 1.0000e-05 - 10s/epoch - 14ms/step\n",
      "Epoch 8/20\n",
      "\n",
      "Epoch 8: saving model to model/cp-0008\n",
      "INFO:tensorflow:Assets written to: model/cp-0008/assets\n",
      "728/728 - 11s - loss: 9.7253e-04 - acc: 1.0000 - precision: 1.0000 - recall: 1.0000 - val_loss: 0.0045 - val_acc: 1.0000 - val_precision: 1.0000 - val_recall: 1.0000 - lr: 1.0000e-06 - 11s/epoch - 14ms/step\n",
      "Epoch 9/20\n",
      "\n",
      "Epoch 9: saving model to model/cp-0009\n",
      "INFO:tensorflow:Assets written to: model/cp-0009/assets\n",
      "728/728 - 10s - loss: 9.4974e-04 - acc: 1.0000 - precision: 1.0000 - recall: 1.0000 - val_loss: 0.0045 - val_acc: 1.0000 - val_precision: 1.0000 - val_recall: 1.0000 - lr: 1.0000e-06 - 10s/epoch - 14ms/step\n",
      "Epoch 10/20\n",
      "\n",
      "Epoch 10: ReduceLROnPlateau reducing learning rate to 9.999999974752428e-08.\n",
      "\n",
      "Epoch 10: saving model to model/cp-0010\n",
      "INFO:tensorflow:Assets written to: model/cp-0010/assets\n",
      "728/728 - 11s - loss: 0.0012 - acc: 0.9999 - precision: 0.9999 - recall: 0.9999 - val_loss: 0.0045 - val_acc: 1.0000 - val_precision: 1.0000 - val_recall: 1.0000 - lr: 1.0000e-06 - 11s/epoch - 15ms/step\n",
      "Epoch 11/20\n",
      "\n",
      "Epoch 11: saving model to model/cp-0011\n",
      "INFO:tensorflow:Assets written to: model/cp-0011/assets\n",
      "728/728 - 10s - loss: 8.3743e-04 - acc: 1.0000 - precision: 1.0000 - recall: 1.0000 - val_loss: 0.0044 - val_acc: 1.0000 - val_precision: 1.0000 - val_recall: 1.0000 - lr: 1.0000e-07 - 10s/epoch - 14ms/step\n",
      "Epoch 12/20\n",
      "\n",
      "Epoch 12: saving model to model/cp-0012\n",
      "INFO:tensorflow:Assets written to: model/cp-0012/assets\n",
      "728/728 - 11s - loss: 8.2913e-04 - acc: 1.0000 - precision: 1.0000 - recall: 1.0000 - val_loss: 0.0045 - val_acc: 1.0000 - val_precision: 1.0000 - val_recall: 1.0000 - lr: 1.0000e-07 - 11s/epoch - 15ms/step\n",
      "Epoch 13/20\n",
      "\n",
      "Epoch 13: ReduceLROnPlateau reducing learning rate to 1.0000000116860975e-08.\n",
      "\n",
      "Epoch 13: saving model to model/cp-0013\n",
      "INFO:tensorflow:Assets written to: model/cp-0013/assets\n",
      "728/728 - 11s - loss: 9.1478e-04 - acc: 1.0000 - precision: 1.0000 - recall: 1.0000 - val_loss: 0.0045 - val_acc: 1.0000 - val_precision: 1.0000 - val_recall: 1.0000 - lr: 1.0000e-07 - 11s/epoch - 14ms/step\n",
      "Epoch 14/20\n",
      "\n",
      "Epoch 14: saving model to model/cp-0014\n",
      "INFO:tensorflow:Assets written to: model/cp-0014/assets\n",
      "728/728 - 10s - loss: 9.1392e-04 - acc: 1.0000 - precision: 1.0000 - recall: 1.0000 - val_loss: 0.0045 - val_acc: 1.0000 - val_precision: 1.0000 - val_recall: 1.0000 - lr: 1.0000e-08 - 10s/epoch - 14ms/step\n",
      "Epoch 15/20\n",
      "\n",
      "Epoch 15: saving model to model/cp-0015\n",
      "INFO:tensorflow:Assets written to: model/cp-0015/assets\n",
      "728/728 - 11s - loss: 0.0011 - acc: 0.9998 - precision: 0.9998 - recall: 0.9998 - val_loss: 0.0044 - val_acc: 1.0000 - val_precision: 1.0000 - val_recall: 1.0000 - lr: 1.0000e-08 - 11s/epoch - 15ms/step\n",
      "Epoch 16/20\n",
      "\n",
      "Epoch 16: ReduceLROnPlateau reducing learning rate to 9.999999939225292e-10.\n",
      "\n",
      "Epoch 16: saving model to model/cp-0016\n",
      "INFO:tensorflow:Assets written to: model/cp-0016/assets\n",
      "728/728 - 11s - loss: 9.9354e-04 - acc: 1.0000 - precision: 1.0000 - recall: 1.0000 - val_loss: 0.0045 - val_acc: 1.0000 - val_precision: 1.0000 - val_recall: 1.0000 - lr: 1.0000e-08 - 11s/epoch - 14ms/step\n",
      "Epoch 17/20\n",
      "\n",
      "Epoch 17: saving model to model/cp-0017\n",
      "INFO:tensorflow:Assets written to: model/cp-0017/assets\n",
      "728/728 - 10s - loss: 8.0907e-04 - acc: 1.0000 - precision: 1.0000 - recall: 1.0000 - val_loss: 0.0044 - val_acc: 1.0000 - val_precision: 1.0000 - val_recall: 1.0000 - lr: 1.0000e-09 - 10s/epoch - 14ms/step\n",
      "Epoch 18/20\n",
      "\n",
      "Epoch 18: saving model to model/cp-0018\n",
      "INFO:tensorflow:Assets written to: model/cp-0018/assets\n",
      "728/728 - 11s - loss: 8.2063e-04 - acc: 1.0000 - precision: 1.0000 - recall: 1.0000 - val_loss: 0.0045 - val_acc: 1.0000 - val_precision: 1.0000 - val_recall: 1.0000 - lr: 1.0000e-09 - 11s/epoch - 15ms/step\n",
      "Epoch 19/20\n",
      "\n",
      "Epoch 19: ReduceLROnPlateau reducing learning rate to 9.999999717180686e-11.\n",
      "\n",
      "Epoch 19: saving model to model/cp-0019\n",
      "INFO:tensorflow:Assets written to: model/cp-0019/assets\n",
      "728/728 - 11s - loss: 8.6226e-04 - acc: 1.0000 - precision: 1.0000 - recall: 1.0000 - val_loss: 0.0045 - val_acc: 1.0000 - val_precision: 1.0000 - val_recall: 1.0000 - lr: 1.0000e-09 - 11s/epoch - 14ms/step\n",
      "Epoch 20/20\n",
      "\n",
      "Epoch 20: saving model to model/cp-0020\n",
      "INFO:tensorflow:Assets written to: model/cp-0020/assets\n",
      "728/728 - 10s - loss: 8.1012e-04 - acc: 1.0000 - precision: 1.0000 - recall: 1.0000 - val_loss: 0.0045 - val_acc: 1.0000 - val_precision: 1.0000 - val_recall: 1.0000 - lr: 1.0000e-10 - 10s/epoch - 14ms/step\n",
      "Model trainined in 212 s\n",
      "Trained using 15 epochs\n"
     ]
    }
   ],
   "source": [
    "!rm -rf model\n",
    "!mkdir model\n",
    "start = time.time()\n",
    "myModel = createModel(trainX.shape, trainYOneHot.shape)\n",
    "myModel, history = fitModel(myModel, trainX, trainYOneHot, valX, valYOneHot, epochs, batchSize, 2, myCallbacks)\n",
    "end = time.time() - start\n",
    "print(\"Model trainined in %d s\" % end)\n",
    "\n",
    "#numEpochsUsed = len(history.history[\"loss\"]) - earlyStoppingPatience\n",
    "#print(\"Trained using %d epochs\" % numEpochsUsed)"
   ]
  },
  {
   "cell_type": "code",
   "execution_count": 5,
   "metadata": {},
   "outputs": [
    {
     "data": {
      "image/png": "[encoded data removed]",
      "text/plain": [
       "<Figure size 432x288 with 1 Axes>"
      ]
     },
     "metadata": {
      "needs_background": "light"
     },
     "output_type": "display_data"
    },
    {
     "data": {
      "image/png": "[encoded data removed]",
      "text/plain": [
       "<Figure size 432x288 with 1 Axes>"
      ]
     },
     "metadata": {
      "needs_background": "light"
     },
     "output_type": "display_data"
    }
   ],
   "source": [
    "import matplotlib.pyplot as plt\n",
    "def plotLoss(history, lossOnly=False):\n",
    "    plt.figure()\n",
    "    plt.title(\"Cross Entropy Loss\")\n",
    "    plt.plot(history.history['loss'], label='loss')\n",
    "    plt.plot(history.history['val_loss'], label='val_loss')\n",
    "    plt.xlabel('Epoch')\n",
    "\n",
    "    plt.figure()\n",
    "    plt.title(\"Accuracy\")\n",
    "    plt.plot(history.history['acc'], label='acc')\n",
    "    plt.plot(history.history['val_acc'], label='val_acc')\n",
    "    plt.xlabel('Epoch')\n",
    "    plt.legend()\n",
    "    \n",
    "plotLoss(history)"
   ]
  },
  {
   "cell_type": "code",
   "execution_count": 6,
   "metadata": {},
   "outputs": [
    {
     "name": "stderr",
     "output_type": "stream",
     "text": [
      "2022-03-22 19:41:44.342681: I tensorflow/core/grappler/optimizers/custom_graph_optimizer_registry.cc:113] Plugin optimizer for device_type GPU is enabled.\n"
     ]
    },
    {
     "data": {
      "image/png": "[encoded data removed]",
      "text/plain": [
       "<Figure size 576x432 with 2 Axes>"
      ]
     },
     "metadata": {
      "needs_background": "light"
     },
     "output_type": "display_data"
    },
    {
     "data": {
      "image/png": "[encoded data removed]",
      "text/plain": [
       "<Figure size 576x576 with 1 Axes>"
      ]
     },
     "metadata": {
      "needs_background": "light"
     },
     "output_type": "display_data"
    }
   ],
   "source": [
    "import pretty\n",
    "import seaborn as sn\n",
    "import pandas as pd\n",
    "\n",
    "classesList = [\"Close\", \"Open\"]\n",
    "\n",
    "def confusionPlot(y, pred, numClasses, classes, cmap=\"PuRd\"):\n",
    "    confusion = tf.math.confusion_matrix(y, pred, num_classes=numClasses)\n",
    "    confusionArray = confusion.numpy()\n",
    "    df_cm = pd.DataFrame(confusionArray, classes, classes)\n",
    "    plt.figure(figsize=(8, 6))\n",
    "    sn.heatmap(df_cm, annot=True)  # font size\n",
    "    plt.xlim([0, numClasses])\n",
    "    plt.ylim([numClasses, 0])\n",
    "    pretty.pretty_plot_confusion_matrix(df_cm, cmap=cmap)\n",
    "    plt.xlim([0, numClasses+1])\n",
    "    plt.ylim([numClasses+1, 0])\n",
    "\n",
    "\n",
    "cmap = pretty.cmaps[123]\n",
    "testPredRaw = myModel.predict(testX)\n",
    "testPred = list(np.argmax(testPredRaw, axis=1))\n",
    "confusionPlot(testY, testPred, 2, classesList, cmap)\n",
    "\n",
    "#confusionPlot()"
   ]
  }
 ],
 "metadata": {
  "interpreter": {
   "hash": "5f181587a632183f7be634211360a03e1458fa367f398715570e68ea3a77a0ce"
  },
  "kernelspec": {
   "display_name": "Python 3.9.5 ('tensorflow')",
   "language": "python",
   "name": "python3"
  },
  "language_info": {
   "codemirror_mode": {
    "name": "ipython",
    "version": 3
   },
   "file_extension": ".py",
   "mimetype": "text/x-python",
   "name": "python",
   "nbconvert_exporter": "python",
   "pygments_lexer": "ipython3",
   "version": "3.9.5"
  },
  "orig_nbformat": 4
 },
 "nbformat": 4,
 "nbformat_minor": 2
}
