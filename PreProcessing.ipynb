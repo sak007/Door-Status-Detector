{
 "cells": [
  {
   "cell_type": "code",
   "execution_count": 6,
   "metadata": {},
   "outputs": [],
   "source": [
    "import Data\n",
    "import numpy as np\n",
    "import os\n",
    "import random\n",
    "\n",
    "MyFolder = \"data/radek/\"\n",
    "files = os.listdir(MyFolder)"
   ]
  },
  {
   "cell_type": "code",
   "execution_count": 4,
   "metadata": {},
   "outputs": [
    {
     "name": "stdout",
     "output_type": "stream",
     "text": [
      "40 206\n",
      "(306, 206, 6)\n",
      "(306, 1)\n"
     ]
    }
   ],
   "source": [
    "channels = [\"ax\", \"ay\", \"az\", \"gx\", \"gy\", \"gz\"]\n",
    "def toList(data):\n",
    "    mylist = []\n",
    "    for channel in channels:\n",
    "        mylist[channel] = data[channel]\n",
    "    return mylist\n",
    "\n",
    "data = []\n",
    "for file in files:\n",
    "    data.append(Data.readFile(MyFolder + file))\n",
    "\n",
    "data2 = []\n",
    "for sample in data:\n",
    "    sample = Data.downsample(sample, 2)\n",
    "    sample = Data.normailizeData(sample)\n",
    "    sample = Data.getMotionSection(sample)\n",
    "    data2.append(sample)\n",
    "\n",
    "samples = Data.splitByChannel(data2)\n",
    "shortest, longest = Data.findShortestAndLongest(samples)\n",
    "print(shortest, longest)\n",
    "samples = Data.fill(samples, longest)"
   ]
  },
  {
   "cell_type": "code",
   "execution_count": 70,
   "metadata": {},
   "outputs": [
    {
     "name": "stdout",
     "output_type": "stream",
     "text": [
      "306 245 61\n"
     ]
    }
   ],
   "source": [
    "def splitTrainTest(samples, indicies):\n",
    "    test = {\"ax\":[], \"ay\":[], \"az\":[], \"gx\":[], \"gy\":[], \"gz\":[], \"class\":[]}\n",
    "    train = {\"ax\":[], \"ay\":[], \"az\":[], \"gx\":[], \"gy\":[], \"gz\":[], \"class\":[]}\n",
    "    for i in range(len(samples[\"ax\"])):\n",
    "        if i in indicies:\n",
    "            for channel in samples:\n",
    "                test[channel].append(samples[channel][i])\n",
    "        else:\n",
    "            for channel in samples:\n",
    "                train[channel].append(samples[channel][i])\n",
    "    return train, test\n",
    "        \n",
    "\n",
    "# Get a list of indicies corresponding to the train/test split\n",
    "nSamples = len(samples[\"ax\"])\n",
    "split = .2\n",
    "nTest = int(nSamples * split)\n",
    "nTrain = nSamples - nTest\n",
    "print(nSamples, nTrain, nTest)\n",
    "testIs = random.sample(range(0, nSamples), nTest)\n",
    "\n",
    "TrainFolder = \"data/train/\"\n",
    "TestFolder = \"data/test/\"\n",
    "train, test = splitTrainTest(samples, testIs)"
   ]
  },
  {
   "cell_type": "code",
   "execution_count": 71,
   "metadata": {},
   "outputs": [
    {
     "name": "stdout",
     "output_type": "stream",
     "text": [
      "(245, 206, 6)\n",
      "(245, 1)\n",
      "(61, 206, 6)\n",
      "(61, 1)\n"
     ]
    }
   ],
   "source": [
    "Data.writeData(train, TrainFolder)\n",
    "Data.writeData(test, TestFolder)\n",
    "    #sample = toList(sample)\n",
    "x,y = Data.readBackFiles(TrainFolder)\n",
    "print(\"Train\")\n",
    "print(x.shape)\n",
    "print(y.shape)\n",
    "print(\"Test\")\n",
    "x,y = Data.readBackFiles(TestFolder)\n",
    "print(x.shape)\n",
    "print(y.shape)"
   ]
  }
 ],
 "metadata": {
  "interpreter": {
   "hash": "5f181587a632183f7be634211360a03e1458fa367f398715570e68ea3a77a0ce"
  },
  "kernelspec": {
   "display_name": "Python 3.9.5 ('tensorflow')",
   "language": "python",
   "name": "python3"
  },
  "language_info": {
   "codemirror_mode": {
    "name": "ipython",
    "version": 3
   },
   "file_extension": ".py",
   "mimetype": "text/x-python",
   "name": "python",
   "nbconvert_exporter": "python",
   "pygments_lexer": "ipython3",
   "version": "3.9.5"
  },
  "orig_nbformat": 4
 },
 "nbformat": 4,
 "nbformat_minor": 2
}
