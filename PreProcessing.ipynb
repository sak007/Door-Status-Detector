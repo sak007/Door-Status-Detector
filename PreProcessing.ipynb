{
 "cells": [
  {
   "cell_type": "code",
   "execution_count": 1,
   "metadata": {},
   "outputs": [],
   "source": [
    "import Data\n",
    "import numpy as np\n",
    "import os\n",
    "import random\n",
    "\n",
    "MyFolder = \"data/radek/\"\n",
    "files = os.listdir(MyFolder)"
   ]
  },
  {
   "cell_type": "code",
   "execution_count": 2,
   "metadata": {},
   "outputs": [
    {
     "name": "stdout",
     "output_type": "stream",
     "text": [
      "40 206\n"
     ]
    }
   ],
   "source": [
    "channels = [\"ax\", \"ay\", \"az\", \"gx\", \"gy\", \"gz\"]\n",
    "def toList(data):\n",
    "    mylist = []\n",
    "    for channel in channels:\n",
    "        mylist[channel] = data[channel]\n",
    "    return mylist\n",
    "\n",
    "data = []\n",
    "for file in files:\n",
    "    data.append(Data.readFile(MyFolder + file))\n",
    "\n",
    "data2 = []\n",
    "for sample in data:\n",
    "    sample = Data.downsample(sample, 2)\n",
    "    sample = Data.normailizeData(sample)\n",
    "    sample = Data.getMotionSection(sample)\n",
    "    data2.append(sample)\n",
    "\n",
    "samples = Data.splitByChannel(data2)\n",
    "shortest, longest = Data.findShortestAndLongest(samples)\n",
    "print(shortest, longest)\n",
    "samples = Data.fill(samples, longest)"
   ]
  },
  {
   "cell_type": "code",
   "execution_count": 3,
   "metadata": {},
   "outputs": [
    {
     "name": "stdout",
     "output_type": "stream",
     "text": [
      "198 48 60\n"
     ]
    }
   ],
   "source": [
    "def splitTrainTest(samples, indicies):\n",
    "    test = {\"ax\":[], \"ay\":[], \"az\":[], \"gx\":[], \"gy\":[], \"gz\":[], \"class\":[]}\n",
    "    train = {\"ax\":[], \"ay\":[], \"az\":[], \"gx\":[], \"gy\":[], \"gz\":[], \"class\":[]}\n",
    "    for i in range(len(samples[\"ax\"])):\n",
    "        if i in indicies:\n",
    "            for channel in samples:\n",
    "                test[channel].append(samples[channel][i])\n",
    "        else:\n",
    "            for channel in samples:\n",
    "                train[channel].append(samples[channel][i])\n",
    "    return train, test\n",
    "\n",
    "# Determines which indicies of the data belongs to which class and then gets random\n",
    "# indicies for each class \n",
    "def getRandomSamples(data, split):\n",
    "    classes = data[\"class\"]\n",
    "    nSplit = int(split * len(classes) / 2)\n",
    "    classIs = [[],[]]\n",
    "    for i in range(len(classes)):\n",
    "        myclass = classes[i]\n",
    "        classIs[myclass].append(i)\n",
    "    class0 = random.sample(classIs[0], nSplit)\n",
    "    class1 = random.sample(classIs[1], nSplit)\n",
    "    class0.extend(class1)\n",
    "    return class0\n",
    "\n",
    "TrainFolder = \"data/train/\"\n",
    "ValFolder = \"data/val/\"\n",
    "TestFolder = \"data/test/\"\n",
    "# Get a list of indicies corresponding to the train/test split\n",
    "nSamples = len(samples[\"ax\"])\n",
    "split = .2\n",
    "testIs = getRandomSamples(samples, split)\n",
    "train, test = splitTrainTest(samples, testIs)\n",
    "valIs = getRandomSamples(train, split)\n",
    "train, val = splitTrainTest(train, valIs)\n",
    "\n",
    "nTrain = len(train[\"class\"])\n",
    "nVal = len(val[\"class\"])\n",
    "nTest = len(test[\"class\"])\n",
    "print(nTrain, nVal, nTest)\n",
    "\n",
    "# Sanity check, make sure that there are no samples shared between train, val and test\n",
    "for sample in samples[\"ax\"]:\n",
    "    count = 0\n",
    "    if sample in train[\"ax\"]:\n",
    "        count+=1\n",
    "    if sample in val[\"ax\"]:\n",
    "        count+=1\n",
    "    if sample in test[\"ax\"]:\n",
    "        count+=1\n",
    "    if count > 1:\n",
    "        raise Exception(\"Sampling Error\")"
   ]
  },
  {
   "cell_type": "code",
   "execution_count": 4,
   "metadata": {},
   "outputs": [
    {
     "name": "stdout",
     "output_type": "stream",
     "text": [
      "Train\n",
      "(198, 206, 6)\n",
      "(198, 1)\n",
      "Val\n",
      "(48, 206, 6)\n",
      "(48, 1)\n",
      "Test\n",
      "(60, 206, 6)\n",
      "(60, 1)\n"
     ]
    }
   ],
   "source": [
    "if not os.path.exists(TrainFolder):\n",
    "    os.mkdir(TrainFolder)\n",
    "if not os.path.exists(ValFolder):\n",
    "    os.mkdir(ValFolder)\n",
    "if not os.path.exists(TestFolder):\n",
    "    os.mkdir(TestFolder)\n",
    "Data.writeData(train, TrainFolder)\n",
    "Data.writeData(val, ValFolder)\n",
    "Data.writeData(test, TestFolder)\n",
    "    #sample = toList(sample)\n",
    "x,y = Data.readBackFiles(TrainFolder)\n",
    "print(\"Train\")\n",
    "print(x.shape)\n",
    "print(y.shape)\n",
    "print(\"Val\")\n",
    "x,y = Data.readBackFiles(ValFolder)\n",
    "print(x.shape)\n",
    "print(y.shape)\n",
    "print(\"Test\")\n",
    "x,y = Data.readBackFiles(TestFolder)\n",
    "print(x.shape)\n",
    "print(y.shape)"
   ]
  }
 ],
 "metadata": {
  "interpreter": {
   "hash": "5f181587a632183f7be634211360a03e1458fa367f398715570e68ea3a77a0ce"
  },
  "kernelspec": {
   "display_name": "Python 3.9.5 ('tensorflow')",
   "language": "python",
   "name": "python3"
  },
  "language_info": {
   "codemirror_mode": {
    "name": "ipython",
    "version": 3
   },
   "file_extension": ".py",
   "mimetype": "text/x-python",
   "name": "python",
   "nbconvert_exporter": "python",
   "pygments_lexer": "ipython3",
   "version": "3.9.5"
  },
  "orig_nbformat": 4
 },
 "nbformat": 4,
 "nbformat_minor": 2
}
