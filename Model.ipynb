{
 "cells": [
  {
   "cell_type": "code",
   "execution_count": null,
   "metadata": {},
   "outputs": [],
   "source": [
    "import Data\n",
    "import numpy as np\n",
    "import os\n",
    "\n",
    "MyFolder = \"data/radek/\"\n",
    "files = os.listdir(MyFolder)"
   ]
  },
  {
   "cell_type": "code",
   "execution_count": null,
   "metadata": {},
   "outputs": [],
   "source": [
    "channels = [\"ax\", \"ay\", \"az\", \"gx\", \"gy\", \"gz\"]\n",
    "def toList(data):\n",
    "    mylist = []\n",
    "    for channel in channels:\n",
    "        mylist[channel] = data[channel]\n",
    "    return mylist\n",
    "\n",
    "data = []\n",
    "for file in files:\n",
    "    data.append(Data.readFile(MyFolder + file))\n",
    "\n",
    "data2 = []\n",
    "for sample in data:\n",
    "    sample = Data.downsample(sample, 2)\n",
    "    sample = Data.normailizeData(sample)\n",
    "    sample = toList(sample)\n",
    "    data2.append(sample)"
   ]
  },
  {
   "cell_type": "code",
   "execution_count": null,
   "metadata": {},
   "outputs": [],
   "source": [
    "testPercent = .2\n",
    "nTrain = (1-testPercent) * len(data2)\n",
    "nTest = testPercent * len(data2)\n",
    "print(\"# Train: \", + nTrain + \" # Test: \" + nTest)\n",
    "\n",
    "testIs = Data.getRandomInts(0, len(data2), nTrain)"
   ]
  }
 ],
 "metadata": {
  "language_info": {
   "name": "python"
  },
  "orig_nbformat": 4
 },
 "nbformat": 4,
 "nbformat_minor": 2
}
