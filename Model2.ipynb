{
 "cells": [
  {
   "cell_type": "code",
   "execution_count": 1,
   "metadata": {},
   "outputs": [
    {
     "name": "stdout",
     "output_type": "stream",
     "text": [
      "Train\n",
      "(23296, 600, 1)\n",
      "(23296, 1)\n",
      "Val\n",
      "(56, 600, 1)\n",
      "(56, 1)\n",
      "Test\n",
      "(70, 600, 1)\n",
      "(70, 1)\n"
     ]
    }
   ],
   "source": [
    "import numpy as np\n",
    "import os\n",
    "import tensorflow as tf\n",
    "from tensorflow.keras import layers\n",
    "import time\n",
    "import pandas as pd\n",
    "\n",
    "\n",
    "def readBackFiles(folder):\n",
    "    x = []\n",
    "    data=pd.read_csv(folder + \"gx.csv\", header=None)\n",
    "    check = data.isna().sum()\n",
    "    if sum(check) > 0:\n",
    "        raise Exception(\"NANs in data\")\n",
    "    x.append(data.values)\n",
    "    x = np.dstack(x)\n",
    "    y = pd.read_csv(folder + \"class.csv\", header=None)\n",
    "    return x, y\n",
    "\n",
    "classes = {0:\"Close\", 1:\"Open\"}\n",
    "\n",
    "TrainFolder = \"data/train/\"\n",
    "ValFolder = \"data/val/\"\n",
    "TestFolder = \"data/test/\"\n",
    "\n",
    "trainX,trainY = readBackFiles(TrainFolder)\n",
    "trainYOneHot = tf.keras.utils.to_categorical(trainY)\n",
    "print(\"Train\")\n",
    "print(trainX.shape)\n",
    "print(trainY.shape)\n",
    "valX,valY = readBackFiles(ValFolder)\n",
    "valYOneHot = tf.keras.utils.to_categorical(valY)\n",
    "print(\"Val\")\n",
    "print(valX.shape)\n",
    "print(valY.shape)\n",
    "print(\"Test\")\n",
    "testX,testY = readBackFiles(TestFolder)\n",
    "print(testX.shape)\n",
    "print(testY.shape)\n",
    "testYOneHot = tf.keras.utils.to_categorical(testY)"
   ]
  },
  {
   "cell_type": "code",
   "execution_count": 2,
   "metadata": {},
   "outputs": [],
   "source": [
    "\n",
    "\n",
    "def fitModel(model, trainX, trainY, valX, valY, epochs, batchSize, verbose,myCallbacks=None):\n",
    "    model.compile(loss='categorical_crossentropy', optimizer=tf.optimizers.Adam(learning_rate=.0001),\n",
    "                  metrics=['acc', \"Precision\", \"Recall\"])\n",
    "    if myCallbacks == None:\n",
    "        history = model.fit(trainX, trainY, epochs=epochs, batch_size=batchSize, verbose=verbose,\n",
    "                            validation_data=(valX, valY))\n",
    "\n",
    "    else:\n",
    "        history = model.fit(trainX, trainY, epochs=epochs, batch_size=batchSize, verbose=verbose,\n",
    "                            validation_data=(valX, valY), callbacks=myCallbacks)\n",
    "    return model, history\n",
    "\n",
    "def createModel2(xShape, yShape):\n",
    "    verbose = 1\n",
    "    _, timesteps, channels = xShape\n",
    "    _, numCategories = yShape\n",
    "    model = tf.keras.Sequential([\n",
    "        layers.Conv1D(filters=64, kernel_size=8, strides=2, activation=\"relu\", input_shape=(timesteps, channels)),\n",
    "        layers.Dropout(.2),\n",
    "        layers.MaxPool1D(pool_size=2),\n",
    "        layers.BatchNormalization(),\n",
    "        layers.Conv1D(filters=48, kernel_size=4, strides=1, activation=\"relu\", input_shape=(timesteps, channels)),\n",
    "        layers.Dropout(.2),\n",
    "        layers.MaxPool1D(pool_size=2),\n",
    "        layers.BatchNormalization(),\n",
    "        layers.Flatten(),\n",
    "        layers.Dense(768, activation=\"relu\"),\n",
    "        layers.BatchNormalization(),\n",
    "        layers.Dropout(.5),\n",
    "        layers.Dense(384, activation=\"relu\"),\n",
    "        layers.BatchNormalization(),\n",
    "        layers.Dropout(.5),\n",
    "        #layers.Dense(30, activation=\"relu\"),\n",
    "        layers.Dense(numCategories, activation=\"softmax\")\n",
    "    ])\n",
    "    return model\n",
    "\n",
    "def createModel(xShape, yShape):\n",
    "    verbose = 1\n",
    "    _, timesteps, channels = xShape\n",
    "    _, numCategories = yShape\n",
    "    model = tf.keras.Sequential([\n",
    "        layers.Conv1D(filters=32, kernel_size=4, strides=2, activation=\"relu\", input_shape=(timesteps, channels)),\n",
    "        layers.Dropout(.2),\n",
    "        layers.MaxPool1D(pool_size=2),\n",
    "        layers.BatchNormalization(),\n",
    "        layers.Conv1D(filters=24, kernel_size=2, strides=1, activation=\"relu\", input_shape=(timesteps, channels)),\n",
    "        layers.Dropout(.2),\n",
    "        layers.MaxPool1D(pool_size=2),\n",
    "        layers.BatchNormalization(),\n",
    "        layers.Flatten(),\n",
    "        layers.Dense(64, activation=\"relu\"),\n",
    "        layers.BatchNormalization(),\n",
    "        layers.Dropout(.5),\n",
    "        layers.Dense(32, activation=\"relu\"),\n",
    "        layers.BatchNormalization(),\n",
    "        layers.Dropout(.5),\n",
    "        #layers.Dense(30, activation=\"relu\"),\n",
    "        layers.Dense(numCategories, activation=\"softmax\")\n",
    "    ])\n",
    "    return model"
   ]
  },
  {
   "cell_type": "code",
   "execution_count": 3,
   "metadata": {},
   "outputs": [],
   "source": [
    "earlyStoppingPatience = 5 # Early stopping\n",
    "reduceLRPatience = 4\n",
    "epochs = 15\n",
    "batchSize = 32\n",
    "\n",
    "#BaseModelPath = \"model/mymodel.h5\"\n",
    "BaseModelPath = \"model/cp-{epoch:04d}\"\n",
    "earlystopping = tf.keras.callbacks.EarlyStopping(monitor=\"val_loss\", patience=earlyStoppingPatience,restore_best_weights=False, mode=\"max\", verbose=1)\n",
    "reduce_lr = tf.keras.callbacks.ReduceLROnPlateau(monitor='val_acc', factor=0.1,patience=reduceLRPatience, \n",
    "                              verbose=1, mode='max')\n",
    "checkpoint = tf.keras.callbacks.ModelCheckpoint(BaseModelPath,  verbose=1, save_best_only=False,\n",
    "    save_weights_only=False, save_freq='epoch')\n",
    "myCallbacks = [checkpoint]\n",
    "#myCallbacks = [reduce_lr, checkpoint]\n",
    "#myCallbacks = [earlystopping, reduce_lr, checkpoint]"
   ]
  },
  {
   "cell_type": "code",
   "execution_count": 4,
   "metadata": {},
   "outputs": [
    {
     "name": "stdout",
     "output_type": "stream",
     "text": [
      "Metal device set to: Apple M1 Max\n",
      "\n",
      "systemMemory: 64.00 GB\n",
      "maxCacheSize: 21.33 GB\n",
      "\n",
      "Epoch 1/15\n"
     ]
    },
    {
     "name": "stderr",
     "output_type": "stream",
     "text": [
      "2022-03-22 20:18:09.749580: I tensorflow/core/common_runtime/pluggable_device/pluggable_device_factory.cc:305] Could not identify NUMA node of platform GPU ID 0, defaulting to 0. Your kernel may not have been built with NUMA support.\n",
      "2022-03-22 20:18:09.749913: I tensorflow/core/common_runtime/pluggable_device/pluggable_device_factory.cc:271] Created TensorFlow device (/job:localhost/replica:0/task:0/device:GPU:0 with 0 MB memory) -> physical PluggableDevice (device: 0, name: METAL, pci bus id: <undefined>)\n",
      "2022-03-22 20:18:09.929139: W tensorflow/core/platform/profile_utils/cpu_utils.cc:128] Failed to get CPU frequency: 0 Hz\n",
      "2022-03-22 20:18:10.325626: I tensorflow/core/grappler/optimizers/custom_graph_optimizer_registry.cc:113] Plugin optimizer for device_type GPU is enabled.\n"
     ]
    },
    {
     "name": "stdout",
     "output_type": "stream",
     "text": [
      "\n",
      "Epoch 1: saving model to model/cp-0001\n"
     ]
    },
    {
     "name": "stderr",
     "output_type": "stream",
     "text": [
      "2022-03-22 20:18:20.725518: I tensorflow/core/grappler/optimizers/custom_graph_optimizer_registry.cc:113] Plugin optimizer for device_type GPU is enabled.\n",
      "2022-03-22 20:18:21.129276: W tensorflow/python/util/util.cc:368] Sets are not currently considered sequences, but this may change in the future, so consider avoiding using them.\n"
     ]
    },
    {
     "name": "stdout",
     "output_type": "stream",
     "text": [
      "INFO:tensorflow:Assets written to: model/cp-0001/assets\n",
      "728/728 - 12s - loss: 0.0615 - acc: 0.9798 - precision: 0.9798 - recall: 0.9798 - val_loss: 0.0061 - val_acc: 1.0000 - val_precision: 1.0000 - val_recall: 1.0000 - 12s/epoch - 16ms/step\n",
      "Epoch 2/15\n",
      "\n",
      "Epoch 2: saving model to model/cp-0002\n",
      "INFO:tensorflow:Assets written to: model/cp-0002/assets\n",
      "728/728 - 11s - loss: 0.0051 - acc: 0.9996 - precision: 0.9996 - recall: 0.9996 - val_loss: 0.0035 - val_acc: 1.0000 - val_precision: 1.0000 - val_recall: 1.0000 - 11s/epoch - 15ms/step\n",
      "Epoch 3/15\n",
      "\n",
      "Epoch 3: saving model to model/cp-0003\n",
      "INFO:tensorflow:Assets written to: model/cp-0003/assets\n",
      "728/728 - 11s - loss: 0.0022 - acc: 0.9999 - precision: 0.9999 - recall: 0.9999 - val_loss: 0.0018 - val_acc: 1.0000 - val_precision: 1.0000 - val_recall: 1.0000 - 11s/epoch - 15ms/step\n",
      "Epoch 4/15\n",
      "\n",
      "Epoch 4: saving model to model/cp-0004\n",
      "INFO:tensorflow:Assets written to: model/cp-0004/assets\n",
      "728/728 - 11s - loss: 0.0018 - acc: 0.9998 - precision: 0.9998 - recall: 0.9998 - val_loss: 0.0015 - val_acc: 1.0000 - val_precision: 1.0000 - val_recall: 1.0000 - 11s/epoch - 15ms/step\n",
      "Epoch 5/15\n",
      "\n",
      "Epoch 5: saving model to model/cp-0005\n",
      "INFO:tensorflow:Assets written to: model/cp-0005/assets\n",
      "728/728 - 11s - loss: 8.4250e-04 - acc: 0.9999 - precision: 0.9999 - recall: 0.9999 - val_loss: 8.9832e-04 - val_acc: 1.0000 - val_precision: 1.0000 - val_recall: 1.0000 - 11s/epoch - 14ms/step\n",
      "Epoch 6/15\n",
      "\n",
      "Epoch 6: saving model to model/cp-0006\n",
      "INFO:tensorflow:Assets written to: model/cp-0006/assets\n",
      "728/728 - 11s - loss: 6.4729e-04 - acc: 0.9999 - precision: 0.9999 - recall: 0.9999 - val_loss: 8.5785e-04 - val_acc: 1.0000 - val_precision: 1.0000 - val_recall: 1.0000 - 11s/epoch - 15ms/step\n",
      "Epoch 7/15\n",
      "\n",
      "Epoch 7: saving model to model/cp-0007\n",
      "INFO:tensorflow:Assets written to: model/cp-0007/assets\n",
      "728/728 - 11s - loss: 4.2916e-04 - acc: 1.0000 - precision: 1.0000 - recall: 1.0000 - val_loss: 8.7843e-04 - val_acc: 1.0000 - val_precision: 1.0000 - val_recall: 1.0000 - 11s/epoch - 15ms/step\n",
      "Epoch 8/15\n",
      "\n",
      "Epoch 8: saving model to model/cp-0008\n",
      "INFO:tensorflow:Assets written to: model/cp-0008/assets\n",
      "728/728 - 11s - loss: 2.5343e-04 - acc: 1.0000 - precision: 1.0000 - recall: 1.0000 - val_loss: 8.0851e-04 - val_acc: 1.0000 - val_precision: 1.0000 - val_recall: 1.0000 - 11s/epoch - 15ms/step\n",
      "Epoch 9/15\n",
      "\n",
      "Epoch 9: saving model to model/cp-0009\n",
      "INFO:tensorflow:Assets written to: model/cp-0009/assets\n",
      "728/728 - 11s - loss: 2.1514e-04 - acc: 1.0000 - precision: 1.0000 - recall: 1.0000 - val_loss: 5.0357e-04 - val_acc: 1.0000 - val_precision: 1.0000 - val_recall: 1.0000 - 11s/epoch - 14ms/step\n",
      "Epoch 10/15\n",
      "\n",
      "Epoch 10: saving model to model/cp-0010\n",
      "INFO:tensorflow:Assets written to: model/cp-0010/assets\n",
      "728/728 - 11s - loss: 2.5111e-04 - acc: 1.0000 - precision: 1.0000 - recall: 1.0000 - val_loss: 2.6531e-04 - val_acc: 1.0000 - val_precision: 1.0000 - val_recall: 1.0000 - 11s/epoch - 15ms/step\n",
      "Epoch 11/15\n",
      "\n",
      "Epoch 11: saving model to model/cp-0011\n",
      "INFO:tensorflow:Assets written to: model/cp-0011/assets\n",
      "728/728 - 11s - loss: 9.5732e-05 - acc: 1.0000 - precision: 1.0000 - recall: 1.0000 - val_loss: 2.0878e-04 - val_acc: 1.0000 - val_precision: 1.0000 - val_recall: 1.0000 - 11s/epoch - 15ms/step\n",
      "Epoch 12/15\n",
      "\n",
      "Epoch 12: saving model to model/cp-0012\n",
      "INFO:tensorflow:Assets written to: model/cp-0012/assets\n",
      "728/728 - 11s - loss: 5.7216e-05 - acc: 1.0000 - precision: 1.0000 - recall: 1.0000 - val_loss: 1.2385e-04 - val_acc: 1.0000 - val_precision: 1.0000 - val_recall: 1.0000 - 11s/epoch - 14ms/step\n",
      "Epoch 13/15\n",
      "\n",
      "Epoch 13: saving model to model/cp-0013\n",
      "INFO:tensorflow:Assets written to: model/cp-0013/assets\n",
      "728/728 - 11s - loss: 4.1413e-05 - acc: 1.0000 - precision: 1.0000 - recall: 1.0000 - val_loss: 7.6661e-05 - val_acc: 1.0000 - val_precision: 1.0000 - val_recall: 1.0000 - 11s/epoch - 15ms/step\n",
      "Epoch 14/15\n",
      "\n",
      "Epoch 14: saving model to model/cp-0014\n",
      "INFO:tensorflow:Assets written to: model/cp-0014/assets\n",
      "728/728 - 11s - loss: 2.8253e-05 - acc: 1.0000 - precision: 1.0000 - recall: 1.0000 - val_loss: 7.8684e-05 - val_acc: 1.0000 - val_precision: 1.0000 - val_recall: 1.0000 - 11s/epoch - 15ms/step\n",
      "Epoch 15/15\n",
      "\n",
      "Epoch 15: saving model to model/cp-0015\n",
      "INFO:tensorflow:Assets written to: model/cp-0015/assets\n",
      "728/728 - 11s - loss: 3.7582e-05 - acc: 1.0000 - precision: 1.0000 - recall: 1.0000 - val_loss: 4.8884e-05 - val_acc: 1.0000 - val_precision: 1.0000 - val_recall: 1.0000 - 11s/epoch - 15ms/step\n",
      "Model trainined in 160 s\n"
     ]
    }
   ],
   "source": [
    "!rm -rf model\n",
    "!mkdir model\n",
    "start = time.time()\n",
    "myModel = createModel(trainX.shape, trainYOneHot.shape)\n",
    "myModel, history = fitModel(myModel, trainX, trainYOneHot, valX, valYOneHot, epochs, batchSize, 2, myCallbacks)\n",
    "end = time.time() - start\n",
    "print(\"Model trainined in %d s\" % end)\n",
    "\n",
    "#numEpochsUsed = len(history.history[\"loss\"]) - earlyStoppingPatience\n",
    "#print(\"Trained using %d epochs\" % numEpochsUsed)"
   ]
  },
  {
   "cell_type": "code",
   "execution_count": 5,
   "metadata": {},
   "outputs": [
    {
     "data": {
      "image/png": "[encoded data removed]",
      "text/plain": [
       "<Figure size 432x288 with 1 Axes>"
      ]
     },
     "metadata": {
      "needs_background": "light"
     },
     "output_type": "display_data"
    },
    {
     "data": {
      "image/png": "[encoded data removed]",
      "text/plain": [
       "<Figure size 432x288 with 1 Axes>"
      ]
     },
     "metadata": {
      "needs_background": "light"
     },
     "output_type": "display_data"
    }
   ],
   "source": [
    "import matplotlib.pyplot as plt\n",
    "def plotLoss(history, lossOnly=False):\n",
    "    plt.figure()\n",
    "    plt.title(\"Cross Entropy Loss\")\n",
    "    plt.plot(history.history['loss'], label='loss')\n",
    "    plt.plot(history.history['val_loss'], label='val_loss')\n",
    "    plt.xlabel('Epoch')\n",
    "\n",
    "    plt.figure()\n",
    "    plt.title(\"Accuracy\")\n",
    "    plt.plot(history.history['acc'], label='acc')\n",
    "    plt.plot(history.history['val_acc'], label='val_acc')\n",
    "    plt.xlabel('Epoch')\n",
    "    plt.legend()\n",
    "    \n",
    "plotLoss(history)"
   ]
  },
  {
   "cell_type": "code",
   "execution_count": 6,
   "metadata": {},
   "outputs": [
    {
     "name": "stderr",
     "output_type": "stream",
     "text": [
      "2022-03-22 20:20:51.816646: I tensorflow/core/grappler/optimizers/custom_graph_optimizer_registry.cc:113] Plugin optimizer for device_type GPU is enabled.\n"
     ]
    },
    {
     "data": {
      "image/png": "[encoded data removed]",
      "text/plain": [
       "<Figure size 576x432 with 2 Axes>"
      ]
     },
     "metadata": {
      "needs_background": "light"
     },
     "output_type": "display_data"
    },
    {
     "data": {
      "image/png": "[encoded data removed]",
      "text/plain": [
       "<Figure size 576x576 with 1 Axes>"
      ]
     },
     "metadata": {
      "needs_background": "light"
     },
     "output_type": "display_data"
    }
   ],
   "source": [
    "import pretty\n",
    "import seaborn as sn\n",
    "import pandas as pd\n",
    "\n",
    "classesList = [\"Close\", \"Open\"]\n",
    "\n",
    "def confusionPlot(y, pred, numClasses, classes, cmap=\"PuRd\"):\n",
    "    confusion = tf.math.confusion_matrix(y, pred, num_classes=numClasses)\n",
    "    confusionArray = confusion.numpy()\n",
    "    df_cm = pd.DataFrame(confusionArray, classes, classes)\n",
    "    plt.figure(figsize=(8, 6))\n",
    "    sn.heatmap(df_cm, annot=True)  # font size\n",
    "    plt.xlim([0, numClasses])\n",
    "    plt.ylim([numClasses, 0])\n",
    "    pretty.pretty_plot_confusion_matrix(df_cm, cmap=cmap)\n",
    "    plt.xlim([0, numClasses+1])\n",
    "    plt.ylim([numClasses+1, 0])\n",
    "\n",
    "#myModel = tf.keras.models.load_model('myModel')\n",
    "myModel = tf.keras.models.load_model('model/cp-0001')\n",
    "cmap = pretty.cmaps[123]\n",
    "testPredRaw = myModel.predict(testX)\n",
    "testPred = list(np.argmax(testPredRaw, axis=1))\n",
    "confusionPlot(testY, testPred, 2, classesList, cmap)\n",
    "\n",
    "#confusionPlot()"
   ]
  }
 ],
 "metadata": {
  "interpreter": {
   "hash": "5f181587a632183f7be634211360a03e1458fa367f398715570e68ea3a77a0ce"
  },
  "kernelspec": {
   "display_name": "Python 3.9.5 ('tensorflow')",
   "language": "python",
   "name": "python3"
  },
  "language_info": {
   "codemirror_mode": {
    "name": "ipython",
    "version": 3
   },
   "file_extension": ".py",
   "mimetype": "text/x-python",
   "name": "python",
   "nbconvert_exporter": "python",
   "pygments_lexer": "ipython3",
   "version": "3.9.5"
  },
  "orig_nbformat": 4
 },
 "nbformat": 4,
 "nbformat_minor": 2
}
